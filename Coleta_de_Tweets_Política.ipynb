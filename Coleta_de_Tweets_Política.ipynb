{
  "cells": [
    {
      "cell_type": "code",
      "execution_count": null,
      "metadata": {
        "colab": {
          "base_uri": "https://localhost:8080/"
        },
        "id": "OyC97NISxb34",
        "outputId": "93eb5aed-37bc-463d-9792-b593a5cf927e"
      },
      "outputs": [
        {
          "output_type": "stream",
          "name": "stdout",
          "text": [
            "Looking in indexes: https://pypi.org/simple, https://us-python.pkg.dev/colab-wheels/public/simple/\n",
            "Requirement already satisfied: snscrape in /usr/local/lib/python3.8/dist-packages (0.6.0.20230303)\n",
            "Requirement already satisfied: beautifulsoup4 in /usr/local/lib/python3.8/dist-packages (from snscrape) (4.6.3)\n",
            "Requirement already satisfied: lxml in /usr/local/lib/python3.8/dist-packages (from snscrape) (4.9.2)\n",
            "Requirement already satisfied: requests[socks] in /usr/local/lib/python3.8/dist-packages (from snscrape) (2.25.1)\n",
            "Requirement already satisfied: pytz in /usr/local/lib/python3.8/dist-packages (from snscrape) (2022.7.1)\n",
            "Requirement already satisfied: filelock in /usr/local/lib/python3.8/dist-packages (from snscrape) (3.9.0)\n",
            "Requirement already satisfied: certifi>=2017.4.17 in /usr/local/lib/python3.8/dist-packages (from requests[socks]->snscrape) (2022.12.7)\n",
            "Requirement already satisfied: chardet<5,>=3.0.2 in /usr/local/lib/python3.8/dist-packages (from requests[socks]->snscrape) (4.0.0)\n",
            "Requirement already satisfied: urllib3<1.27,>=1.21.1 in /usr/local/lib/python3.8/dist-packages (from requests[socks]->snscrape) (1.26.14)\n",
            "Requirement already satisfied: idna<3,>=2.5 in /usr/local/lib/python3.8/dist-packages (from requests[socks]->snscrape) (2.10)\n",
            "Requirement already satisfied: PySocks!=1.5.7,>=1.5.6 in /usr/local/lib/python3.8/dist-packages (from requests[socks]->snscrape) (1.7.1)\n"
          ]
        }
      ],
      "source": [
        "pip install snscrape"
      ]
    },
    {
      "cell_type": "code",
      "execution_count": null,
      "metadata": {
        "id": "LIa5It5Yxj2k"
      },
      "outputs": [],
      "source": [
        "import snscrape.modules.twitter as sntwitter\n",
        "import pandas as pd"
      ]
    },
    {
      "cell_type": "code",
      "execution_count": null,
      "metadata": {
        "colab": {
          "base_uri": "https://localhost:8080/"
        },
        "id": "Mymq08znxn78",
        "outputId": "ab9ab0b1-f419-4865-f1d1-39826db99c5e"
      },
      "outputs": [
        {
          "output_type": "stream",
          "name": "stderr",
          "text": [
            "<ipython-input-12-1b5ae4cd0031>:14: DeprecatedFeatureWarning: username is deprecated, use user.username instead\n",
            "  tweets.append([tweet.date, tweet.username, tweet.content, tweet.id])\n",
            "<ipython-input-12-1b5ae4cd0031>:14: DeprecatedFeatureWarning: content is deprecated, use rawContent instead\n",
            "  tweets.append([tweet.date, tweet.username, tweet.content, tweet.id])\n"
          ]
        },
        {
          "output_type": "stream",
          "name": "stdout",
          "text": [
            "                            Date             User  \\\n",
            "0      2023-01-08 23:59:59+00:00   buttercupeviie   \n",
            "1      2023-01-08 23:59:59+00:00  ArthurHauerNeto   \n",
            "2      2023-01-08 23:59:59+00:00     galloradical   \n",
            "3      2023-01-08 23:59:59+00:00  RenanLi82115409   \n",
            "4      2023-01-08 23:59:59+00:00  rogerio66558081   \n",
            "...                          ...              ...   \n",
            "261664 2023-01-08 00:00:00+00:00     NeidaArantes   \n",
            "261665 2023-01-08 00:00:00+00:00  joselit62097165   \n",
            "261666 2023-01-08 00:00:00+00:00       Julianee29   \n",
            "261667 2023-01-08 00:00:00+00:00       DCM_online   \n",
            "261668 2023-01-08 00:00:00+00:00  AnavaleriaVeig2   \n",
            "\n",
            "                                                    Tweet                   ID  \n",
            "0       lula muito aqueles veio que o médico diz repou...  1612237715558244352  \n",
            "1       @aguedescartoon Agora vai dizer que a PF e a i...  1612237714862247936  \n",
            "2       Léo Índio estava nas manifestações e invasão.\\...  1612237714610331648  \n",
            "3       @oddesigner @direbeque @traumann Foda-se a art...  1612237714581061643  \n",
            "4       @ThiagoResiste Quem é de esquerda não pode apo...  1612237714497146881  \n",
            "...                                                   ...                  ...  \n",
            "261664                   @ThiagoResiste @LulaOficial Lula  1611875331123695616  \n",
            "261665  Bolsonaro é uma referência mundial, orgulho de...  1611875330964262913  \n",
            "261666                                Genocida e o LULA !  1611875330448580608  \n",
            "261667  Luis Claudio fala sobre sua paixão por futebol...  1611875328946831361  \n",
            "261668  ACHO QUE O ENREDO DESTA EDIÇÃO DE POLÍTICA NO ...  1611875328837689345  \n",
            "\n",
            "[261669 rows x 4 columns]\n"
          ]
        }
      ],
      "source": [
        "#Escoteiro until:2022-09-30 since:2022-01-01\n",
        "query = \"(Lula OR Bolsonaro OR Bolsonarismo OR Política OR Invasão) lang:pt until:2023-01-09 since:2023-01-08\"\n",
        "tweets = []\n",
        "limit = 1000000\n",
        "\n",
        "\n",
        "for tweet in sntwitter.TwitterSearchScraper(query).get_items():\n",
        "    \n",
        "    # print(vars(tweet))\n",
        "    # break\n",
        "    if len(tweets) == limit:\n",
        "        break\n",
        "    else:\n",
        "        tweets.append([tweet.date, tweet.username, tweet.content, tweet.id])\n",
        "        \n",
        "df = pd.DataFrame(tweets, columns=['Date', 'User', 'Tweet', 'ID'])\n",
        "print(df)"
      ]
    },
    {
      "cell_type": "code",
      "execution_count": null,
      "metadata": {
        "colab": {
          "base_uri": "https://localhost:8080/",
          "height": 423
        },
        "id": "TG1EpNGtCpnF",
        "outputId": "ad3d2767-ae37-4a12-bebc-1e59e9b2d8c1"
      },
      "outputs": [
        {
          "output_type": "execute_result",
          "data": {
            "text/plain": [
              "                            Date             User  \\\n",
              "0      2023-01-08 23:59:59+00:00   buttercupeviie   \n",
              "1      2023-01-08 23:59:59+00:00  ArthurHauerNeto   \n",
              "2      2023-01-08 23:59:59+00:00     galloradical   \n",
              "3      2023-01-08 23:59:59+00:00  RenanLi82115409   \n",
              "4      2023-01-08 23:59:59+00:00  rogerio66558081   \n",
              "...                          ...              ...   \n",
              "261664 2023-01-08 00:00:00+00:00     NeidaArantes   \n",
              "261665 2023-01-08 00:00:00+00:00  joselit62097165   \n",
              "261666 2023-01-08 00:00:00+00:00       Julianee29   \n",
              "261667 2023-01-08 00:00:00+00:00       DCM_online   \n",
              "261668 2023-01-08 00:00:00+00:00  AnavaleriaVeig2   \n",
              "\n",
              "                                                    Tweet                   ID  \n",
              "0       lula muito aqueles veio que o médico diz repou...  1612237715558244352  \n",
              "1       @aguedescartoon Agora vai dizer que a PF e a i...  1612237714862247936  \n",
              "2       Léo Índio estava nas manifestações e invasão.\\...  1612237714610331648  \n",
              "3       @oddesigner @direbeque @traumann Foda-se a art...  1612237714581061643  \n",
              "4       @ThiagoResiste Quem é de esquerda não pode apo...  1612237714497146881  \n",
              "...                                                   ...                  ...  \n",
              "261664                   @ThiagoResiste @LulaOficial Lula  1611875331123695616  \n",
              "261665  Bolsonaro é uma referência mundial, orgulho de...  1611875330964262913  \n",
              "261666                                Genocida e o LULA !  1611875330448580608  \n",
              "261667  Luis Claudio fala sobre sua paixão por futebol...  1611875328946831361  \n",
              "261668  ACHO QUE O ENREDO DESTA EDIÇÃO DE POLÍTICA NO ...  1611875328837689345  \n",
              "\n",
              "[261669 rows x 4 columns]"
            ],
            "text/html": [
              "\n",
              "  <div id=\"df-02bab9db-318f-466c-a88d-521c08010a04\">\n",
              "    <div class=\"colab-df-container\">\n",
              "      <div>\n",
              "<style scoped>\n",
              "    .dataframe tbody tr th:only-of-type {\n",
              "        vertical-align: middle;\n",
              "    }\n",
              "\n",
              "    .dataframe tbody tr th {\n",
              "        vertical-align: top;\n",
              "    }\n",
              "\n",
              "    .dataframe thead th {\n",
              "        text-align: right;\n",
              "    }\n",
              "</style>\n",
              "<table border=\"1\" class=\"dataframe\">\n",
              "  <thead>\n",
              "    <tr style=\"text-align: right;\">\n",
              "      <th></th>\n",
              "      <th>Date</th>\n",
              "      <th>User</th>\n",
              "      <th>Tweet</th>\n",
              "      <th>ID</th>\n",
              "    </tr>\n",
              "  </thead>\n",
              "  <tbody>\n",
              "    <tr>\n",
              "      <th>0</th>\n",
              "      <td>2023-01-08 23:59:59+00:00</td>\n",
              "      <td>buttercupeviie</td>\n",
              "      <td>lula muito aqueles veio que o médico diz repou...</td>\n",
              "      <td>1612237715558244352</td>\n",
              "    </tr>\n",
              "    <tr>\n",
              "      <th>1</th>\n",
              "      <td>2023-01-08 23:59:59+00:00</td>\n",
              "      <td>ArthurHauerNeto</td>\n",
              "      <td>@aguedescartoon Agora vai dizer que a PF e a i...</td>\n",
              "      <td>1612237714862247936</td>\n",
              "    </tr>\n",
              "    <tr>\n",
              "      <th>2</th>\n",
              "      <td>2023-01-08 23:59:59+00:00</td>\n",
              "      <td>galloradical</td>\n",
              "      <td>Léo Índio estava nas manifestações e invasão.\\...</td>\n",
              "      <td>1612237714610331648</td>\n",
              "    </tr>\n",
              "    <tr>\n",
              "      <th>3</th>\n",
              "      <td>2023-01-08 23:59:59+00:00</td>\n",
              "      <td>RenanLi82115409</td>\n",
              "      <td>@oddesigner @direbeque @traumann Foda-se a art...</td>\n",
              "      <td>1612237714581061643</td>\n",
              "    </tr>\n",
              "    <tr>\n",
              "      <th>4</th>\n",
              "      <td>2023-01-08 23:59:59+00:00</td>\n",
              "      <td>rogerio66558081</td>\n",
              "      <td>@ThiagoResiste Quem é de esquerda não pode apo...</td>\n",
              "      <td>1612237714497146881</td>\n",
              "    </tr>\n",
              "    <tr>\n",
              "      <th>...</th>\n",
              "      <td>...</td>\n",
              "      <td>...</td>\n",
              "      <td>...</td>\n",
              "      <td>...</td>\n",
              "    </tr>\n",
              "    <tr>\n",
              "      <th>261664</th>\n",
              "      <td>2023-01-08 00:00:00+00:00</td>\n",
              "      <td>NeidaArantes</td>\n",
              "      <td>@ThiagoResiste @LulaOficial Lula</td>\n",
              "      <td>1611875331123695616</td>\n",
              "    </tr>\n",
              "    <tr>\n",
              "      <th>261665</th>\n",
              "      <td>2023-01-08 00:00:00+00:00</td>\n",
              "      <td>joselit62097165</td>\n",
              "      <td>Bolsonaro é uma referência mundial, orgulho de...</td>\n",
              "      <td>1611875330964262913</td>\n",
              "    </tr>\n",
              "    <tr>\n",
              "      <th>261666</th>\n",
              "      <td>2023-01-08 00:00:00+00:00</td>\n",
              "      <td>Julianee29</td>\n",
              "      <td>Genocida e o LULA !</td>\n",
              "      <td>1611875330448580608</td>\n",
              "    </tr>\n",
              "    <tr>\n",
              "      <th>261667</th>\n",
              "      <td>2023-01-08 00:00:00+00:00</td>\n",
              "      <td>DCM_online</td>\n",
              "      <td>Luis Claudio fala sobre sua paixão por futebol...</td>\n",
              "      <td>1611875328946831361</td>\n",
              "    </tr>\n",
              "    <tr>\n",
              "      <th>261668</th>\n",
              "      <td>2023-01-08 00:00:00+00:00</td>\n",
              "      <td>AnavaleriaVeig2</td>\n",
              "      <td>ACHO QUE O ENREDO DESTA EDIÇÃO DE POLÍTICA NO ...</td>\n",
              "      <td>1611875328837689345</td>\n",
              "    </tr>\n",
              "  </tbody>\n",
              "</table>\n",
              "<p>261669 rows × 4 columns</p>\n",
              "</div>\n",
              "      <button class=\"colab-df-convert\" onclick=\"convertToInteractive('df-02bab9db-318f-466c-a88d-521c08010a04')\"\n",
              "              title=\"Convert this dataframe to an interactive table.\"\n",
              "              style=\"display:none;\">\n",
              "        \n",
              "  <svg xmlns=\"http://www.w3.org/2000/svg\" height=\"24px\"viewBox=\"0 0 24 24\"\n",
              "       width=\"24px\">\n",
              "    <path d=\"M0 0h24v24H0V0z\" fill=\"none\"/>\n",
              "    <path d=\"M18.56 5.44l.94 2.06.94-2.06 2.06-.94-2.06-.94-.94-2.06-.94 2.06-2.06.94zm-11 1L8.5 8.5l.94-2.06 2.06-.94-2.06-.94L8.5 2.5l-.94 2.06-2.06.94zm10 10l.94 2.06.94-2.06 2.06-.94-2.06-.94-.94-2.06-.94 2.06-2.06.94z\"/><path d=\"M17.41 7.96l-1.37-1.37c-.4-.4-.92-.59-1.43-.59-.52 0-1.04.2-1.43.59L10.3 9.45l-7.72 7.72c-.78.78-.78 2.05 0 2.83L4 21.41c.39.39.9.59 1.41.59.51 0 1.02-.2 1.41-.59l7.78-7.78 2.81-2.81c.8-.78.8-2.07 0-2.86zM5.41 20L4 18.59l7.72-7.72 1.47 1.35L5.41 20z\"/>\n",
              "  </svg>\n",
              "      </button>\n",
              "      \n",
              "  <style>\n",
              "    .colab-df-container {\n",
              "      display:flex;\n",
              "      flex-wrap:wrap;\n",
              "      gap: 12px;\n",
              "    }\n",
              "\n",
              "    .colab-df-convert {\n",
              "      background-color: #E8F0FE;\n",
              "      border: none;\n",
              "      border-radius: 50%;\n",
              "      cursor: pointer;\n",
              "      display: none;\n",
              "      fill: #1967D2;\n",
              "      height: 32px;\n",
              "      padding: 0 0 0 0;\n",
              "      width: 32px;\n",
              "    }\n",
              "\n",
              "    .colab-df-convert:hover {\n",
              "      background-color: #E2EBFA;\n",
              "      box-shadow: 0px 1px 2px rgba(60, 64, 67, 0.3), 0px 1px 3px 1px rgba(60, 64, 67, 0.15);\n",
              "      fill: #174EA6;\n",
              "    }\n",
              "\n",
              "    [theme=dark] .colab-df-convert {\n",
              "      background-color: #3B4455;\n",
              "      fill: #D2E3FC;\n",
              "    }\n",
              "\n",
              "    [theme=dark] .colab-df-convert:hover {\n",
              "      background-color: #434B5C;\n",
              "      box-shadow: 0px 1px 3px 1px rgba(0, 0, 0, 0.15);\n",
              "      filter: drop-shadow(0px 1px 2px rgba(0, 0, 0, 0.3));\n",
              "      fill: #FFFFFF;\n",
              "    }\n",
              "  </style>\n",
              "\n",
              "      <script>\n",
              "        const buttonEl =\n",
              "          document.querySelector('#df-02bab9db-318f-466c-a88d-521c08010a04 button.colab-df-convert');\n",
              "        buttonEl.style.display =\n",
              "          google.colab.kernel.accessAllowed ? 'block' : 'none';\n",
              "\n",
              "        async function convertToInteractive(key) {\n",
              "          const element = document.querySelector('#df-02bab9db-318f-466c-a88d-521c08010a04');\n",
              "          const dataTable =\n",
              "            await google.colab.kernel.invokeFunction('convertToInteractive',\n",
              "                                                     [key], {});\n",
              "          if (!dataTable) return;\n",
              "\n",
              "          const docLinkHtml = 'Like what you see? Visit the ' +\n",
              "            '<a target=\"_blank\" href=https://colab.research.google.com/notebooks/data_table.ipynb>data table notebook</a>'\n",
              "            + ' to learn more about interactive tables.';\n",
              "          element.innerHTML = '';\n",
              "          dataTable['output_type'] = 'display_data';\n",
              "          await google.colab.output.renderOutput(dataTable, element);\n",
              "          const docLink = document.createElement('div');\n",
              "          docLink.innerHTML = docLinkHtml;\n",
              "          element.appendChild(docLink);\n",
              "        }\n",
              "      </script>\n",
              "    </div>\n",
              "  </div>\n",
              "  "
            ]
          },
          "metadata": {},
          "execution_count": 13
        }
      ],
      "source": [
        "df"
      ]
    },
    {
      "cell_type": "code",
      "source": [
        "from google.colab import drive\n",
        "drive.mount('/content/drive')"
      ],
      "metadata": {
        "colab": {
          "base_uri": "https://localhost:8080/"
        },
        "id": "x2ni_1En8Exh",
        "outputId": "0eaf1c25-e2b4-46a8-9eb4-d822d052b5f0"
      },
      "execution_count": null,
      "outputs": [
        {
          "output_type": "stream",
          "name": "stdout",
          "text": [
            "Drive already mounted at /content/drive; to attempt to forcibly remount, call drive.mount(\"/content/drive\", force_remount=True).\n"
          ]
        }
      ]
    },
    {
      "cell_type": "code",
      "source": [
        "from google.colab import files\n",
        "df.to_csv('testePo.csv') \n",
        "files.download('testePo.csv')"
      ],
      "metadata": {
        "colab": {
          "base_uri": "https://localhost:8080/",
          "height": 17
        },
        "id": "03ML01A9_EsA",
        "outputId": "ded08780-1b27-4d18-e1d6-e33410875d4c"
      },
      "execution_count": null,
      "outputs": [
        {
          "output_type": "display_data",
          "data": {
            "text/plain": [
              "<IPython.core.display.Javascript object>"
            ],
            "application/javascript": [
              "\n",
              "    async function download(id, filename, size) {\n",
              "      if (!google.colab.kernel.accessAllowed) {\n",
              "        return;\n",
              "      }\n",
              "      const div = document.createElement('div');\n",
              "      const label = document.createElement('label');\n",
              "      label.textContent = `Downloading \"${filename}\": `;\n",
              "      div.appendChild(label);\n",
              "      const progress = document.createElement('progress');\n",
              "      progress.max = size;\n",
              "      div.appendChild(progress);\n",
              "      document.body.appendChild(div);\n",
              "\n",
              "      const buffers = [];\n",
              "      let downloaded = 0;\n",
              "\n",
              "      const channel = await google.colab.kernel.comms.open(id);\n",
              "      // Send a message to notify the kernel that we're ready.\n",
              "      channel.send({})\n",
              "\n",
              "      for await (const message of channel.messages) {\n",
              "        // Send a message to notify the kernel that we're ready.\n",
              "        channel.send({})\n",
              "        if (message.buffers) {\n",
              "          for (const buffer of message.buffers) {\n",
              "            buffers.push(buffer);\n",
              "            downloaded += buffer.byteLength;\n",
              "            progress.value = downloaded;\n",
              "          }\n",
              "        }\n",
              "      }\n",
              "      const blob = new Blob(buffers, {type: 'application/binary'});\n",
              "      const a = document.createElement('a');\n",
              "      a.href = window.URL.createObjectURL(blob);\n",
              "      a.download = filename;\n",
              "      div.appendChild(a);\n",
              "      a.click();\n",
              "      div.remove();\n",
              "    }\n",
              "  "
            ]
          },
          "metadata": {}
        },
        {
          "output_type": "display_data",
          "data": {
            "text/plain": [
              "<IPython.core.display.Javascript object>"
            ],
            "application/javascript": [
              "download(\"download_8d69e3b2-720f-4bbe-a167-3b5327b9f24c\", \"testePo.csv\", 52150024)"
            ]
          },
          "metadata": {}
        }
      ]
    },
    {
      "cell_type": "code",
      "source": [
        "dft = pd.read_csv(\"/content/drive/MyDrive/Colab Notebooks/DB/testePo.csv\", engine='python')"
      ],
      "metadata": {
        "id": "e6FKQ1TGCcxB"
      },
      "execution_count": null,
      "outputs": []
    },
    {
      "cell_type": "code",
      "source": [
        "dft"
      ],
      "metadata": {
        "colab": {
          "base_uri": "https://localhost:8080/",
          "height": 423
        },
        "id": "vn89T9nWDScO",
        "outputId": "bc226db5-3fe2-4f88-b307-b42c5dca42d0"
      },
      "execution_count": null,
      "outputs": [
        {
          "output_type": "execute_result",
          "data": {
            "text/plain": [
              "       Unnamed: 0                       Date             User  \\\n",
              "0               0  2023-01-08 23:59:59+00:00   buttercupeviie   \n",
              "1               1  2023-01-08 23:59:59+00:00  ArthurHauerNeto   \n",
              "2               2  2023-01-08 23:59:59+00:00     galloradical   \n",
              "3               3  2023-01-08 23:59:59+00:00  RenanLi82115409   \n",
              "4               4  2023-01-08 23:59:59+00:00  rogerio66558081   \n",
              "...           ...                        ...              ...   \n",
              "261668     261664  2023-01-08 00:00:00+00:00     NeidaArantes   \n",
              "261669     261665  2023-01-08 00:00:00+00:00  joselit62097165   \n",
              "261670     261666  2023-01-08 00:00:00+00:00       Julianee29   \n",
              "261671     261667  2023-01-08 00:00:00+00:00       DCM_online   \n",
              "261672     261668  2023-01-08 00:00:00+00:00  AnavaleriaVeig2   \n",
              "\n",
              "                                                    Tweet            ID  \n",
              "0       lula muito aqueles veio que o médico diz repou...  1.612238e+18  \n",
              "1       @aguedescartoon Agora vai dizer que a PF e a i...  1.612238e+18  \n",
              "2       Léo Índio estava nas manifestações e invasão.\\...  1.612238e+18  \n",
              "3       @oddesigner @direbeque @traumann Foda-se a art...  1.612238e+18  \n",
              "4       @ThiagoResiste Quem é de esquerda não pode apo...  1.612238e+18  \n",
              "...                                                   ...           ...  \n",
              "261668                   @ThiagoResiste @LulaOficial Lula  1.611875e+18  \n",
              "261669  Bolsonaro é uma referência mundial, orgulho de...  1.611875e+18  \n",
              "261670                                Genocida e o LULA !  1.611875e+18  \n",
              "261671  Luis Claudio fala sobre sua paixão por futebol...  1.611875e+18  \n",
              "261672  ACHO QUE O ENREDO DESTA EDIÇÃO DE POLÍTICA NO ...  1.611875e+18  \n",
              "\n",
              "[261673 rows x 5 columns]"
            ],
            "text/html": [
              "\n",
              "  <div id=\"df-679dfedd-7b19-4417-aa98-c8c8e217046f\">\n",
              "    <div class=\"colab-df-container\">\n",
              "      <div>\n",
              "<style scoped>\n",
              "    .dataframe tbody tr th:only-of-type {\n",
              "        vertical-align: middle;\n",
              "    }\n",
              "\n",
              "    .dataframe tbody tr th {\n",
              "        vertical-align: top;\n",
              "    }\n",
              "\n",
              "    .dataframe thead th {\n",
              "        text-align: right;\n",
              "    }\n",
              "</style>\n",
              "<table border=\"1\" class=\"dataframe\">\n",
              "  <thead>\n",
              "    <tr style=\"text-align: right;\">\n",
              "      <th></th>\n",
              "      <th>Unnamed: 0</th>\n",
              "      <th>Date</th>\n",
              "      <th>User</th>\n",
              "      <th>Tweet</th>\n",
              "      <th>ID</th>\n",
              "    </tr>\n",
              "  </thead>\n",
              "  <tbody>\n",
              "    <tr>\n",
              "      <th>0</th>\n",
              "      <td>0</td>\n",
              "      <td>2023-01-08 23:59:59+00:00</td>\n",
              "      <td>buttercupeviie</td>\n",
              "      <td>lula muito aqueles veio que o médico diz repou...</td>\n",
              "      <td>1.612238e+18</td>\n",
              "    </tr>\n",
              "    <tr>\n",
              "      <th>1</th>\n",
              "      <td>1</td>\n",
              "      <td>2023-01-08 23:59:59+00:00</td>\n",
              "      <td>ArthurHauerNeto</td>\n",
              "      <td>@aguedescartoon Agora vai dizer que a PF e a i...</td>\n",
              "      <td>1.612238e+18</td>\n",
              "    </tr>\n",
              "    <tr>\n",
              "      <th>2</th>\n",
              "      <td>2</td>\n",
              "      <td>2023-01-08 23:59:59+00:00</td>\n",
              "      <td>galloradical</td>\n",
              "      <td>Léo Índio estava nas manifestações e invasão.\\...</td>\n",
              "      <td>1.612238e+18</td>\n",
              "    </tr>\n",
              "    <tr>\n",
              "      <th>3</th>\n",
              "      <td>3</td>\n",
              "      <td>2023-01-08 23:59:59+00:00</td>\n",
              "      <td>RenanLi82115409</td>\n",
              "      <td>@oddesigner @direbeque @traumann Foda-se a art...</td>\n",
              "      <td>1.612238e+18</td>\n",
              "    </tr>\n",
              "    <tr>\n",
              "      <th>4</th>\n",
              "      <td>4</td>\n",
              "      <td>2023-01-08 23:59:59+00:00</td>\n",
              "      <td>rogerio66558081</td>\n",
              "      <td>@ThiagoResiste Quem é de esquerda não pode apo...</td>\n",
              "      <td>1.612238e+18</td>\n",
              "    </tr>\n",
              "    <tr>\n",
              "      <th>...</th>\n",
              "      <td>...</td>\n",
              "      <td>...</td>\n",
              "      <td>...</td>\n",
              "      <td>...</td>\n",
              "      <td>...</td>\n",
              "    </tr>\n",
              "    <tr>\n",
              "      <th>261668</th>\n",
              "      <td>261664</td>\n",
              "      <td>2023-01-08 00:00:00+00:00</td>\n",
              "      <td>NeidaArantes</td>\n",
              "      <td>@ThiagoResiste @LulaOficial Lula</td>\n",
              "      <td>1.611875e+18</td>\n",
              "    </tr>\n",
              "    <tr>\n",
              "      <th>261669</th>\n",
              "      <td>261665</td>\n",
              "      <td>2023-01-08 00:00:00+00:00</td>\n",
              "      <td>joselit62097165</td>\n",
              "      <td>Bolsonaro é uma referência mundial, orgulho de...</td>\n",
              "      <td>1.611875e+18</td>\n",
              "    </tr>\n",
              "    <tr>\n",
              "      <th>261670</th>\n",
              "      <td>261666</td>\n",
              "      <td>2023-01-08 00:00:00+00:00</td>\n",
              "      <td>Julianee29</td>\n",
              "      <td>Genocida e o LULA !</td>\n",
              "      <td>1.611875e+18</td>\n",
              "    </tr>\n",
              "    <tr>\n",
              "      <th>261671</th>\n",
              "      <td>261667</td>\n",
              "      <td>2023-01-08 00:00:00+00:00</td>\n",
              "      <td>DCM_online</td>\n",
              "      <td>Luis Claudio fala sobre sua paixão por futebol...</td>\n",
              "      <td>1.611875e+18</td>\n",
              "    </tr>\n",
              "    <tr>\n",
              "      <th>261672</th>\n",
              "      <td>261668</td>\n",
              "      <td>2023-01-08 00:00:00+00:00</td>\n",
              "      <td>AnavaleriaVeig2</td>\n",
              "      <td>ACHO QUE O ENREDO DESTA EDIÇÃO DE POLÍTICA NO ...</td>\n",
              "      <td>1.611875e+18</td>\n",
              "    </tr>\n",
              "  </tbody>\n",
              "</table>\n",
              "<p>261673 rows × 5 columns</p>\n",
              "</div>\n",
              "      <button class=\"colab-df-convert\" onclick=\"convertToInteractive('df-679dfedd-7b19-4417-aa98-c8c8e217046f')\"\n",
              "              title=\"Convert this dataframe to an interactive table.\"\n",
              "              style=\"display:none;\">\n",
              "        \n",
              "  <svg xmlns=\"http://www.w3.org/2000/svg\" height=\"24px\"viewBox=\"0 0 24 24\"\n",
              "       width=\"24px\">\n",
              "    <path d=\"M0 0h24v24H0V0z\" fill=\"none\"/>\n",
              "    <path d=\"M18.56 5.44l.94 2.06.94-2.06 2.06-.94-2.06-.94-.94-2.06-.94 2.06-2.06.94zm-11 1L8.5 8.5l.94-2.06 2.06-.94-2.06-.94L8.5 2.5l-.94 2.06-2.06.94zm10 10l.94 2.06.94-2.06 2.06-.94-2.06-.94-.94-2.06-.94 2.06-2.06.94z\"/><path d=\"M17.41 7.96l-1.37-1.37c-.4-.4-.92-.59-1.43-.59-.52 0-1.04.2-1.43.59L10.3 9.45l-7.72 7.72c-.78.78-.78 2.05 0 2.83L4 21.41c.39.39.9.59 1.41.59.51 0 1.02-.2 1.41-.59l7.78-7.78 2.81-2.81c.8-.78.8-2.07 0-2.86zM5.41 20L4 18.59l7.72-7.72 1.47 1.35L5.41 20z\"/>\n",
              "  </svg>\n",
              "      </button>\n",
              "      \n",
              "  <style>\n",
              "    .colab-df-container {\n",
              "      display:flex;\n",
              "      flex-wrap:wrap;\n",
              "      gap: 12px;\n",
              "    }\n",
              "\n",
              "    .colab-df-convert {\n",
              "      background-color: #E8F0FE;\n",
              "      border: none;\n",
              "      border-radius: 50%;\n",
              "      cursor: pointer;\n",
              "      display: none;\n",
              "      fill: #1967D2;\n",
              "      height: 32px;\n",
              "      padding: 0 0 0 0;\n",
              "      width: 32px;\n",
              "    }\n",
              "\n",
              "    .colab-df-convert:hover {\n",
              "      background-color: #E2EBFA;\n",
              "      box-shadow: 0px 1px 2px rgba(60, 64, 67, 0.3), 0px 1px 3px 1px rgba(60, 64, 67, 0.15);\n",
              "      fill: #174EA6;\n",
              "    }\n",
              "\n",
              "    [theme=dark] .colab-df-convert {\n",
              "      background-color: #3B4455;\n",
              "      fill: #D2E3FC;\n",
              "    }\n",
              "\n",
              "    [theme=dark] .colab-df-convert:hover {\n",
              "      background-color: #434B5C;\n",
              "      box-shadow: 0px 1px 3px 1px rgba(0, 0, 0, 0.15);\n",
              "      filter: drop-shadow(0px 1px 2px rgba(0, 0, 0, 0.3));\n",
              "      fill: #FFFFFF;\n",
              "    }\n",
              "  </style>\n",
              "\n",
              "      <script>\n",
              "        const buttonEl =\n",
              "          document.querySelector('#df-679dfedd-7b19-4417-aa98-c8c8e217046f button.colab-df-convert');\n",
              "        buttonEl.style.display =\n",
              "          google.colab.kernel.accessAllowed ? 'block' : 'none';\n",
              "\n",
              "        async function convertToInteractive(key) {\n",
              "          const element = document.querySelector('#df-679dfedd-7b19-4417-aa98-c8c8e217046f');\n",
              "          const dataTable =\n",
              "            await google.colab.kernel.invokeFunction('convertToInteractive',\n",
              "                                                     [key], {});\n",
              "          if (!dataTable) return;\n",
              "\n",
              "          const docLinkHtml = 'Like what you see? Visit the ' +\n",
              "            '<a target=\"_blank\" href=https://colab.research.google.com/notebooks/data_table.ipynb>data table notebook</a>'\n",
              "            + ' to learn more about interactive tables.';\n",
              "          element.innerHTML = '';\n",
              "          dataTable['output_type'] = 'display_data';\n",
              "          await google.colab.output.renderOutput(dataTable, element);\n",
              "          const docLink = document.createElement('div');\n",
              "          docLink.innerHTML = docLinkHtml;\n",
              "          element.appendChild(docLink);\n",
              "        }\n",
              "      </script>\n",
              "    </div>\n",
              "  </div>\n",
              "  "
            ]
          },
          "metadata": {},
          "execution_count": 21
        }
      ]
    },
    {
      "cell_type": "code",
      "source": [
        "dft['Date'][204000]"
      ],
      "metadata": {
        "colab": {
          "base_uri": "https://localhost:8080/",
          "height": 36
        },
        "id": "NK_dvb4lEove",
        "outputId": "e60aa625-2aeb-4431-d191-58884e2780d7"
      },
      "execution_count": null,
      "outputs": [
        {
          "output_type": "execute_result",
          "data": {
            "text/plain": [
              "'2023-01-08 18:27:31+00:00'"
            ],
            "application/vnd.google.colaboratory.intrinsic+json": {
              "type": "string"
            }
          },
          "metadata": {},
          "execution_count": 33
        }
      ]
    },
    {
      "cell_type": "markdown",
      "source": [
        "# Outra forma de coleta"
      ],
      "metadata": {
        "id": "ezEGuEhmJJMe"
      }
    },
    {
      "cell_type": "code",
      "source": [
        "import sys"
      ],
      "metadata": {
        "id": "gWNJtDrYJMjO"
      },
      "execution_count": null,
      "outputs": []
    },
    {
      "cell_type": "code",
      "source": [
        "pip install GetOldTweets3"
      ],
      "metadata": {
        "colab": {
          "base_uri": "https://localhost:8080/"
        },
        "id": "Phpe0pgNJdFm",
        "outputId": "540b6683-b95f-477d-d29b-e8b8c19bab87"
      },
      "execution_count": null,
      "outputs": [
        {
          "output_type": "stream",
          "name": "stdout",
          "text": [
            "Looking in indexes: https://pypi.org/simple, https://us-python.pkg.dev/colab-wheels/public/simple/\n",
            "Collecting GetOldTweets3\n",
            "  Downloading GetOldTweets3-0.0.11-py3-none-any.whl (13 kB)\n",
            "Collecting pyquery>=1.2.10\n",
            "  Downloading pyquery-2.0.0-py3-none-any.whl (22 kB)\n",
            "Requirement already satisfied: lxml>=3.5.0 in /usr/local/lib/python3.9/dist-packages (from GetOldTweets3) (4.9.2)\n",
            "Collecting cssselect>=1.2.0\n",
            "  Downloading cssselect-1.2.0-py2.py3-none-any.whl (18 kB)\n",
            "Installing collected packages: cssselect, pyquery, GetOldTweets3\n",
            "Successfully installed GetOldTweets3-0.0.11 cssselect-1.2.0 pyquery-2.0.0\n"
          ]
        }
      ]
    },
    {
      "cell_type": "code",
      "source": [
        "import GetOldTweets3 as got"
      ],
      "metadata": {
        "id": "Gz4ae6tQKTld"
      },
      "execution_count": null,
      "outputs": []
    },
    {
      "cell_type": "code",
      "source": [
        "tweetCriteria = got.manager.TweetCriteria().setQuerySearch(\"lula\").setSince(\"2023-01-07\").setUntil(\"2023-01-09\").setMaxTweets(10)\n",
        "tweet = got.manager.TweetManager.getTweets(tweetCriteria)\n",
        "print(tweet.text)"
      ],
      "metadata": {
        "colab": {
          "base_uri": "https://localhost:8080/",
          "height": 190
        },
        "id": "7LPJHkYwNXDE",
        "outputId": "994a90fd-d26f-460e-c466-ccdeea38cdf3"
      },
      "execution_count": null,
      "outputs": [
        {
          "output_type": "stream",
          "name": "stdout",
          "text": [
            "An error occured during an HTTP request: HTTP Error 403: Forbidden\n",
            "Try to open in browser: https://twitter.com/search?q=lula%20since%3A2023-01-07%20until%3A2023-01-09&src=typd\n"
          ]
        },
        {
          "output_type": "error",
          "ename": "SystemExit",
          "evalue": "ignored",
          "traceback": [
            "An exception has occurred, use %tb to see the full traceback.\n",
            "\u001b[0;31mSystemExit\u001b[0m\n"
          ]
        },
        {
          "output_type": "stream",
          "name": "stderr",
          "text": [
            "/usr/local/lib/python3.9/dist-packages/IPython/core/interactiveshell.py:3334: UserWarning: To exit: use 'exit', 'quit', or Ctrl-D.\n",
            "  warn(\"To exit: use 'exit', 'quit', or Ctrl-D.\", stacklevel=1)\n"
          ]
        }
      ]
    },
    {
      "cell_type": "code",
      "source": [
        "!pip install GetOldTweets3"
      ],
      "metadata": {
        "id": "-Mzd1PjVTgQS",
        "outputId": "42d5d0d2-3ea5-497b-c127-6930ecab454b",
        "colab": {
          "base_uri": "https://localhost:8080/"
        }
      },
      "execution_count": null,
      "outputs": [
        {
          "output_type": "stream",
          "name": "stdout",
          "text": [
            "Looking in indexes: https://pypi.org/simple, https://us-python.pkg.dev/colab-wheels/public/simple/\n",
            "Requirement already satisfied: GetOldTweets3 in /usr/local/lib/python3.9/dist-packages (0.0.11)\n",
            "Requirement already satisfied: pyquery>=1.2.10 in /usr/local/lib/python3.9/dist-packages (from GetOldTweets3) (2.0.0)\n",
            "Requirement already satisfied: lxml>=3.5.0 in /usr/local/lib/python3.9/dist-packages (from GetOldTweets3) (4.9.2)\n",
            "Requirement already satisfied: cssselect>=1.2.0 in /usr/local/lib/python3.9/dist-packages (from pyquery>=1.2.10->GetOldTweets3) (1.2.0)\n"
          ]
        }
      ]
    },
    {
      "cell_type": "code",
      "source": [
        "usernames = [\n",
        "    'Macaco', 'Gato']"
      ],
      "metadata": {
        "id": "Rh586BOnTKpR"
      },
      "execution_count": null,
      "outputs": []
    },
    {
      "cell_type": "code",
      "source": [
        "import GetOldTweets3 as got\n",
        "\n",
        "def download_tweets(username):\n",
        "    print(f\"Downloading for {username}\")\n",
        "    tweetCriteria = got.manager.TweetCriteria().setUsername(username)\\\n",
        "                                               .setSince(\"2019-01-01\")\\\n",
        "                                               .setUntil(\"2019-01-05\")\\\n",
        "\n",
        "    tweets = got.manager.TweetManager.getTweets(tweetCriteria)\n",
        "    df = pd.DataFrame([tweet.__dict__ for tweet in tweets])\n",
        "    print(df.shape)\n",
        "    df.to_csv(f\"data/tweets-raw-{username}.csv\", index=False)\n",
        "    \n",
        "for username in usernames:\n",
        "    download_tweets(username)"
      ],
      "metadata": {
        "colab": {
          "base_uri": "https://localhost:8080/",
          "height": 172
        },
        "id": "iloUhNIiQACh",
        "outputId": "4909ef7f-ed65-458f-90ea-6788ac4da36d"
      },
      "execution_count": null,
      "outputs": [
        {
          "output_type": "stream",
          "name": "stdout",
          "text": [
            "Downloading for Macaco\n",
            "An error occured during an HTTP request: HTTP Error 403: Forbidden\n",
            "Try to open in browser: https://twitter.com/search?q=%20from%3Amacaco%20since%3A2019-01-01%20until%3A2019-01-05&src=typd\n"
          ]
        },
        {
          "output_type": "error",
          "ename": "SystemExit",
          "evalue": "ignored",
          "traceback": [
            "An exception has occurred, use %tb to see the full traceback.\n",
            "\u001b[0;31mSystemExit\u001b[0m\n"
          ]
        }
      ]
    }
  ],
  "metadata": {
    "colab": {
      "provenance": []
    },
    "kernelspec": {
      "display_name": "Python 3",
      "name": "python3"
    },
    "language_info": {
      "name": "python"
    }
  },
  "nbformat": 4,
  "nbformat_minor": 0
}